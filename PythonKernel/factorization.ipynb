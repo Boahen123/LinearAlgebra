{
 "cells": [
  {
   "attachments": {},
   "cell_type": "markdown",
   "metadata": {},
   "source": [
    "LU factorization"
   ]
  },
  {
   "attachments": {},
   "cell_type": "markdown",
   "metadata": {},
   "source": [
    "It seems that the sympy library gives more accurate solutions"
   ]
  },
  {
   "cell_type": "code",
   "execution_count": 25,
   "metadata": {},
   "outputs": [
    {
     "name": "stdout",
     "output_type": "stream",
     "text": [
      "L:\n"
     ]
    },
    {
     "data": {
      "text/latex": [
       "$\\displaystyle \\left[\\begin{matrix}1 & 0 & 0\\\\0 & 1 & 0\\\\2 & 3 & 1\\end{matrix}\\right]$"
      ],
      "text/plain": [
       "Matrix([\n",
       "[1, 0, 0],\n",
       "[0, 1, 0],\n",
       "[2, 3, 1]])"
      ]
     },
     "execution_count": 25,
     "metadata": {},
     "output_type": "execute_result"
    }
   ],
   "source": [
    "import sympy \n",
    "\n",
    "# Create a matrix\n",
    "A = sympy.Matrix([[0,1,1],[1,2,1], [2,7,9]])\n",
    "\n",
    "# Perform LU factorization\n",
    "L, U, _ = A.LUdecomposition()\n",
    "\n",
    "L = sympy.Matrix(L)\n",
    "U = sympy.Matrix(U)\n",
    "\n",
    "print(\"L:\")\n",
    "L"
   ]
  },
  {
   "cell_type": "code",
   "execution_count": 26,
   "metadata": {},
   "outputs": [
    {
     "name": "stdout",
     "output_type": "stream",
     "text": [
      "U:\n"
     ]
    },
    {
     "data": {
      "text/latex": [
       "$\\displaystyle \\left[\\begin{matrix}1 & 2 & 1\\\\0 & 1 & 1\\\\0 & 0 & 4\\end{matrix}\\right]$"
      ],
      "text/plain": [
       "Matrix([\n",
       "[1, 2, 1],\n",
       "[0, 1, 1],\n",
       "[0, 0, 4]])"
      ]
     },
     "execution_count": 26,
     "metadata": {},
     "output_type": "execute_result"
    }
   ],
   "source": [
    "print(\"U:\")\n",
    "U"
   ]
  },
  {
   "cell_type": "code",
   "execution_count": 27,
   "metadata": {},
   "outputs": [
    {
     "data": {
      "text/latex": [
       "$\\displaystyle \\left[\\begin{matrix}1 & 2 & 1\\\\0 & 1 & 1\\\\2 & 7 & 9\\end{matrix}\\right]$"
      ],
      "text/plain": [
       "Matrix([\n",
       "[1, 2, 1],\n",
       "[0, 1, 1],\n",
       "[2, 7, 9]])"
      ]
     },
     "execution_count": 27,
     "metadata": {},
     "output_type": "execute_result"
    }
   ],
   "source": [
    "L*U"
   ]
  },
  {
   "cell_type": "code",
   "execution_count": 28,
   "metadata": {},
   "outputs": [
    {
     "data": {
      "text/plain": [
       "(Matrix([\n",
       " [1, 0, 0],\n",
       " [0, 1, 0],\n",
       " [0, 0, 1]]),\n",
       " (0, 1, 2))"
      ]
     },
     "execution_count": 28,
     "metadata": {},
     "output_type": "execute_result"
    }
   ],
   "source": [
    "import sympy as sym\n",
    "\n",
    "mat_A = sym.Matrix([[2, 1, 5], [0, 1, 1], [0, 0, 3]])\n",
    "mat_A.rref()"
   ]
  },
  {
   "cell_type": "code",
   "execution_count": 29,
   "metadata": {},
   "outputs": [
    {
     "data": {
      "text/latex": [
       "$\\displaystyle \\left[\\begin{matrix}1 & - \\frac{1}{4} & 0 & 0 & 0\\\\0 & 0 & 1 & 0 & 0\\\\0 & 0 & 0 & 1 & 0\\end{matrix}\\right]$"
      ],
      "text/plain": [
       "Matrix([\n",
       "[1, -1/4, 0, 0, 0],\n",
       "[0,    0, 1, 0, 0],\n",
       "[0,    0, 0, 1, 0]])"
      ]
     },
     "execution_count": 29,
     "metadata": {},
     "output_type": "execute_result"
    }
   ],
   "source": [
    "import sympy as sym\n",
    "\n",
    "mat_A = sym.Matrix([[0, 0, 0, -1, 0], [4, -1, 1, -1, 0], [8, -2, 3, -1, 0]])\n",
    "reduced_A = mat_A.rref()\n",
    "reduced_A[0]"
   ]
  },
  {
   "attachments": {},
   "cell_type": "markdown",
   "metadata": {},
   "source": [
    "Nullspace of a matrix"
   ]
  },
  {
   "cell_type": "code",
   "execution_count": 30,
   "metadata": {},
   "outputs": [
    {
     "name": "stdout",
     "output_type": "stream",
     "text": [
      "This is actually the basis of the null space\n"
     ]
    },
    {
     "data": {
      "text/latex": [
       "$\\displaystyle \\left[\\begin{matrix}\\frac{1}{4}\\\\1\\\\0\\\\0\\end{matrix}\\right]$"
      ],
      "text/plain": [
       "Matrix([\n",
       "[1/4],\n",
       "[  1],\n",
       "[  0],\n",
       "[  0]])"
      ]
     },
     "execution_count": 30,
     "metadata": {},
     "output_type": "execute_result"
    }
   ],
   "source": [
    "import sympy as sym\n",
    "\n",
    "mat_B = sym.Matrix([[0, 0, 0, -1], [4, -1, 1, -1], [8, -2, 3, -1]])\n",
    "print(\"This is actually the basis of the null space\")\n",
    "mat_B.nullspace()[0]"
   ]
  },
  {
   "cell_type": "code",
   "execution_count": 31,
   "metadata": {},
   "outputs": [
    {
     "name": "stdout",
     "output_type": "stream",
     "text": [
      "This is actually the basis of the null space\n"
     ]
    },
    {
     "data": {
      "text/latex": [
       "$\\displaystyle \\left[\\begin{matrix}-15\\\\6\\\\1\\\\0\\\\0\\end{matrix}\\right]$"
      ],
      "text/plain": [
       "Matrix([\n",
       "[-15],\n",
       "[  6],\n",
       "[  1],\n",
       "[  0],\n",
       "[  0]])"
      ]
     },
     "execution_count": 31,
     "metadata": {},
     "output_type": "execute_result"
    }
   ],
   "source": [
    "import sympy as sym\n",
    "\n",
    "mat_B = sym.Matrix([[1, 2, 3, 0, 0], [4, 10, 0, 0, 1]])\n",
    "print(\"This is actually the basis of the null space\")\n",
    "# for i in range(len(mat_B.nullspace())):\n",
    "#     print(\"Vector\", i+1, \":\", mat_B.nullspace()[i])\n",
    "mat_B.nullspace()[0]"
   ]
  },
  {
   "attachments": {},
   "cell_type": "markdown",
   "metadata": {},
   "source": [
    "Column space of a matrix"
   ]
  },
  {
   "cell_type": "code",
   "execution_count": 32,
   "metadata": {},
   "outputs": [
    {
     "name": "stdout",
     "output_type": "stream",
     "text": [
      "This is actually the basis of the column space\n"
     ]
    },
    {
     "data": {
      "text/latex": [
       "$\\displaystyle \\left[\\begin{matrix}1\\\\-2\\\\2\\\\3\\end{matrix}\\right]$"
      ],
      "text/plain": [
       "Matrix([\n",
       "[ 1],\n",
       "[-2],\n",
       "[ 2],\n",
       "[ 3]])"
      ]
     },
     "execution_count": 32,
     "metadata": {},
     "output_type": "execute_result"
    }
   ],
   "source": [
    "import sympy as sym\n",
    "\n",
    "mat_C = sym.Matrix([[1, 3, 3, 2, -9], [-2, -2, 2, -8, 2], [2, 3, 0, 7, 1], [3, 4, -1, 11, -8]])\n",
    "# print(\"This is actually the basis of the null\")\n",
    "column_space = list(mat_C.columnspace())\n",
    "print(\"This is actually the basis of the column space\")\n",
    "column_space[0]\n",
    "    "
   ]
  },
  {
   "cell_type": "code",
   "execution_count": 33,
   "metadata": {},
   "outputs": [
    {
     "data": {
      "text/latex": [
       "$\\displaystyle \\left[\\begin{matrix}3\\\\-2\\\\3\\\\4\\end{matrix}\\right]$"
      ],
      "text/plain": [
       "Matrix([\n",
       "[ 3],\n",
       "[-2],\n",
       "[ 3],\n",
       "[ 4]])"
      ]
     },
     "execution_count": 33,
     "metadata": {},
     "output_type": "execute_result"
    }
   ],
   "source": [
    "column_space[1]"
   ]
  },
  {
   "cell_type": "code",
   "execution_count": 34,
   "metadata": {},
   "outputs": [
    {
     "data": {
      "text/latex": [
       "$\\displaystyle \\left[\\begin{matrix}-9\\\\2\\\\1\\\\-8\\end{matrix}\\right]$"
      ],
      "text/plain": [
       "Matrix([\n",
       "[-9],\n",
       "[ 2],\n",
       "[ 1],\n",
       "[-8]])"
      ]
     },
     "execution_count": 34,
     "metadata": {},
     "output_type": "execute_result"
    }
   ],
   "source": [
    "column_space[2]"
   ]
  },
  {
   "attachments": {},
   "cell_type": "markdown",
   "metadata": {},
   "source": [
    "Since the number of basis of the Col A is 3 the rank is also 3 by definition"
   ]
  },
  {
   "cell_type": "code",
   "execution_count": 35,
   "metadata": {},
   "outputs": [
    {
     "data": {
      "text/plain": [
       "3"
      ]
     },
     "execution_count": 35,
     "metadata": {},
     "output_type": "execute_result"
    }
   ],
   "source": [
    "mat_C.rank(simplify=False)"
   ]
  },
  {
   "cell_type": "code",
   "execution_count": 36,
   "metadata": {},
   "outputs": [
    {
     "data": {
      "text/latex": [
       "$\\displaystyle \\left[\\begin{matrix}0\\\\0\\\\0\\end{matrix}\\right]$"
      ],
      "text/plain": [
       "Matrix([\n",
       "[0],\n",
       "[0],\n",
       "[0]])"
      ]
     },
     "execution_count": 36,
     "metadata": {},
     "output_type": "execute_result"
    }
   ],
   "source": [
    "import sympy\n",
    "\n",
    "A = sympy.Matrix([[1,-1,5], [2,0,7], [-3,-5,-3]])\n",
    "u = sympy.Matrix([-7,3,2])\n",
    "product = A*u\n",
    "product"
   ]
  },
  {
   "cell_type": "code",
   "execution_count": 37,
   "metadata": {},
   "outputs": [
    {
     "data": {
      "text/latex": [
       "$\\displaystyle \\left[\\begin{matrix}1 & 0 & \\frac{7}{2} & 0\\\\0 & 1 & - \\frac{3}{2} & 0\\\\0 & 0 & 0 & 1\\end{matrix}\\right]$"
      ],
      "text/plain": [
       "Matrix([\n",
       "[1, 0,  7/2, 0],\n",
       "[0, 1, -3/2, 0],\n",
       "[0, 0,    0, 1]])"
      ]
     },
     "execution_count": 37,
     "metadata": {},
     "output_type": "execute_result"
    }
   ],
   "source": [
    "# augmented matrix\n",
    "augmented = A.row_join(u)\n",
    "augmented.rref()[0]"
   ]
  },
  {
   "cell_type": "code",
   "execution_count": 38,
   "metadata": {},
   "outputs": [
    {
     "data": {
      "text/latex": [
       "$\\displaystyle \\left[\\begin{matrix}1 & 0 & - \\frac{11}{10}\\\\0 & 1 & \\frac{2}{5}\\\\0 & 0 & 0\\end{matrix}\\right]$"
      ],
      "text/plain": [
       "Matrix([\n",
       "[1, 0, -11/10],\n",
       "[0, 1,    2/5],\n",
       "[0, 0,      0]])"
      ]
     },
     "execution_count": 38,
     "metadata": {},
     "output_type": "execute_result"
    }
   ],
   "source": [
    "import sympy\n",
    "\n",
    "A = sympy.Matrix([[2,3,-1], [-8,-7,6], [6,-1,-7]])\n",
    "A.rref(pivots=False)"
   ]
  },
  {
   "cell_type": "code",
   "execution_count": 39,
   "metadata": {},
   "outputs": [
    {
     "data": {
      "text/latex": [
       "$\\displaystyle -30$"
      ],
      "text/plain": [
       "-30"
      ]
     },
     "execution_count": 39,
     "metadata": {},
     "output_type": "execute_result"
    }
   ],
   "source": [
    "import sympy \n",
    "\n",
    "mat_D = sympy.Matrix([[0, 1, 2, -1], [2, 5, -7, 3], [0, 3, 6, 2], [-2, -5, 4, -2]])\n",
    "mat_D\n",
    "mat_D.det(method=\"lu\")\n"
   ]
  },
  {
   "cell_type": "code",
   "execution_count": 40,
   "metadata": {},
   "outputs": [
    {
     "data": {
      "text/latex": [
       "$\\displaystyle -30$"
      ],
      "text/plain": [
       "-30"
      ]
     },
     "execution_count": 40,
     "metadata": {},
     "output_type": "execute_result"
    }
   ],
   "source": [
    "transpose_mat_D = mat_D.T\n",
    "transpose_mat_D.det(method=\"lu\")"
   ]
  },
  {
   "attachments": {},
   "cell_type": "markdown",
   "metadata": {},
   "source": [
    "<h1> Eigenvalues and Eigenvectors </h1>"
   ]
  },
  {
   "cell_type": "code",
   "execution_count": 19,
   "metadata": {},
   "outputs": [
    {
     "name": "stdout",
     "output_type": "stream",
     "text": [
      "Eigenvalues:\n"
     ]
    },
    {
     "data": {
      "text/plain": [
       "{1: 1, -2: 2}"
      ]
     },
     "execution_count": 19,
     "metadata": {},
     "output_type": "execute_result"
    }
   ],
   "source": [
    "import sympy\n",
    "\n",
    "# Define the matrix\n",
    "A = sympy.Matrix([[1,3,3], [-3,-5,-3], [3,3,1]])\n",
    "\n",
    "# Find the eigenvalues and eigenvectors\n",
    "eigenvectors = A.eigenvects()\n",
    "eigenvalues = A.eigenvals()\n",
    "\n",
    "# Print the results\n",
    "print(\"Eigenvalues:\")\n",
    "eigenvalues"
   ]
  },
  {
   "cell_type": "code",
   "execution_count": 20,
   "metadata": {},
   "outputs": [
    {
     "name": "stdout",
     "output_type": "stream",
     "text": [
      "Eigenvectors:\n"
     ]
    },
    {
     "data": {
      "text/plain": [
       "[(-2,\n",
       "  2,\n",
       "  [Matrix([\n",
       "   [-1],\n",
       "   [ 1],\n",
       "   [ 0]]),\n",
       "   Matrix([\n",
       "   [-1],\n",
       "   [ 0],\n",
       "   [ 1]])]),\n",
       " (1,\n",
       "  1,\n",
       "  [Matrix([\n",
       "   [ 1],\n",
       "   [-1],\n",
       "   [ 1]])])]"
      ]
     },
     "execution_count": 20,
     "metadata": {},
     "output_type": "execute_result"
    }
   ],
   "source": [
    "print(\"Eigenvectors:\")\n",
    "eigenvectors"
   ]
  },
  {
   "cell_type": "code",
   "execution_count": 43,
   "metadata": {},
   "outputs": [
    {
     "data": {
      "text/plain": [
       "{2: 2, 1: 1}"
      ]
     },
     "execution_count": 43,
     "metadata": {},
     "output_type": "execute_result"
    }
   ],
   "source": [
    "import sympy\n",
    "\n",
    "# Define the matrix\n",
    "A = sympy.Matrix([[2,0,0], [-1,2,1], [-1, 0, 1]])\n",
    "\n",
    "# Find the eigenvalues and eigenvectors\n",
    "eigenvectors = A.eigenvects(error_when_incomplete=True)\n",
    "eigenvalues = A.eigenvals()\n",
    "eigenvalues"
   ]
  },
  {
   "cell_type": "code",
   "execution_count": 44,
   "metadata": {},
   "outputs": [
    {
     "data": {
      "text/plain": [
       "[(1,\n",
       "  1,\n",
       "  [Matrix([\n",
       "   [ 0],\n",
       "   [-1],\n",
       "   [ 1]])]),\n",
       " (2,\n",
       "  2,\n",
       "  [Matrix([\n",
       "   [0],\n",
       "   [1],\n",
       "   [0]])])]"
      ]
     },
     "execution_count": 44,
     "metadata": {},
     "output_type": "execute_result"
    }
   ],
   "source": [
    "eigenvectors"
   ]
  },
  {
   "attachments": {},
   "cell_type": "markdown",
   "metadata": {},
   "source": [
    "Midsem Question on LU factorization"
   ]
  },
  {
   "cell_type": "code",
   "execution_count": 12,
   "metadata": {},
   "outputs": [
    {
     "name": "stdout",
     "output_type": "stream",
     "text": [
      "L:\n"
     ]
    },
    {
     "data": {
      "text/latex": [
       "$\\displaystyle \\left[\\begin{matrix}1 & 0 & 0 & 0\\\\-2 & 1 & 0 & 0\\\\1 & -3 & 1 & 0\\\\-3 & 4 & 2 & 1\\end{matrix}\\right]$"
      ],
      "text/plain": [
       "Matrix([\n",
       "[ 1,  0, 0, 0],\n",
       "[-2,  1, 0, 0],\n",
       "[ 1, -3, 1, 0],\n",
       "[-3,  4, 2, 1]])"
      ]
     },
     "execution_count": 12,
     "metadata": {},
     "output_type": "execute_result"
    }
   ],
   "source": [
    "import sympy \n",
    "import numpy\n",
    "\n",
    "# Create a matrix\n",
    "A = sympy.Matrix([[2,4,-1,5,-2],[-4,-5,3,-8,1], [2,-5,-4,1,8], [-6,0,7,-3,1]])\n",
    "\n",
    "# Perform LU factorization\n",
    "L, U, perm = A.LUdecomposition()\n",
    "\n",
    "L = sympy.Matrix(L)\n",
    "U = sympy.Matrix(U)\n",
    "\n",
    "print(\"L:\")\n",
    "L"
   ]
  },
  {
   "cell_type": "code",
   "execution_count": 13,
   "metadata": {},
   "outputs": [
    {
     "name": "stdout",
     "output_type": "stream",
     "text": [
      "U:\n"
     ]
    },
    {
     "data": {
      "text/latex": [
       "$\\displaystyle \\left[\\begin{matrix}2 & 4 & -1 & 5 & -2\\\\0 & 3 & 1 & 2 & -3\\\\0 & 0 & 0 & 2 & 1\\\\0 & 0 & 0 & 0 & 5\\end{matrix}\\right]$"
      ],
      "text/plain": [
       "Matrix([\n",
       "[2, 4, -1, 5, -2],\n",
       "[0, 3,  1, 2, -3],\n",
       "[0, 0,  0, 2,  1],\n",
       "[0, 0,  0, 0,  5]])"
      ]
     },
     "execution_count": 13,
     "metadata": {},
     "output_type": "execute_result"
    }
   ],
   "source": [
    "print(\"U:\")\n",
    "U"
   ]
  },
  {
   "cell_type": "code",
   "execution_count": 14,
   "metadata": {},
   "outputs": [
    {
     "data": {
      "text/latex": [
       "$\\displaystyle \\left[\\begin{matrix}2 & 4 & -1 & 5 & -2\\\\-4 & -5 & 3 & -8 & 1\\\\2 & -5 & -4 & 1 & 8\\\\-6 & 0 & 7 & -3 & 1\\end{matrix}\\right]$"
      ],
      "text/plain": [
       "Matrix([\n",
       "[ 2,  4, -1,  5, -2],\n",
       "[-4, -5,  3, -8,  1],\n",
       "[ 2, -5, -4,  1,  8],\n",
       "[-6,  0,  7, -3,  1]])"
      ]
     },
     "execution_count": 14,
     "metadata": {},
     "output_type": "execute_result"
    }
   ],
   "source": [
    "L*U"
   ]
  },
  {
   "cell_type": "code",
   "execution_count": null,
   "metadata": {},
   "outputs": [
    {
     "data": {
      "text/latex": [
       "$\\displaystyle \\left[\\begin{matrix}\\frac{\\sqrt{2}}{2} & - \\frac{\\sqrt{2}}{2} & 2 \\sqrt{2} + 3\\\\\\frac{\\sqrt{2}}{2} & \\frac{\\sqrt{2}}{2} & 7 - 5 \\sqrt{2}\\\\0 & 0 & 1\\end{matrix}\\right]$"
      ],
      "text/plain": [
       "Matrix([\n",
       "[sqrt(2)/2, -sqrt(2)/2, 2*sqrt(2) + 3],\n",
       "[sqrt(2)/2,  sqrt(2)/2, 7 - 5*sqrt(2)],\n",
       "[        0,          0,             1]])"
      ]
     },
     "execution_count": 16,
     "metadata": {},
     "output_type": "execute_result"
    }
   ],
   "source": [
    "import sympy as sym\n",
    "\n",
    "first = sym.Matrix([[1,0,3], [0,1,7],[0, 0, 1]])\n",
    "second = sym.Matrix([[sym.sqrt(2)/2, -sym.sqrt(2)/2, 0], [sym.sqrt(2)/2, sym.sqrt(2)/2, 0], [0, 0, 1]])\n",
    "third = sym.Matrix([[1,0,-3], [0,1,-7],[0, 0, 1]])\n",
    "\n",
    "result = first*second*third\n",
    "result"
   ]
  },
  {
   "cell_type": "code",
   "execution_count": null,
   "metadata": {},
   "outputs": [
    {
     "data": {
      "text/latex": [
       "$\\displaystyle \\left[\\begin{matrix}2 \\sqrt{2} + 3\\\\7 - \\sqrt{2}\\\\1\\end{matrix}\\right]$"
      ],
      "text/plain": [
       "Matrix([\n",
       "[2*sqrt(2) + 3],\n",
       "[  7 - sqrt(2)],\n",
       "[            1]])"
      ]
     },
     "execution_count": 17,
     "metadata": {},
     "output_type": "execute_result"
    }
   ],
   "source": [
    "result*sym.Matrix([4, 4, 1])\n",
    "\n"
   ]
  },
  {
   "cell_type": "code",
   "execution_count": 48,
   "metadata": {},
   "outputs": [
    {
     "data": {
      "text/latex": [
       "$\\displaystyle \\sqrt{142}$"
      ],
      "text/plain": [
       "sqrt(142)"
      ]
     },
     "execution_count": 48,
     "metadata": {},
     "output_type": "execute_result"
    }
   ],
   "source": [
    "import numpy\n",
    "import sympy\n",
    "\n",
    "# Create a matrix\n",
    "A = sympy.Matrix([[0,1,1],[1,2,1], [2,7,9]])\n",
    "\n",
    "# Perform LU factorization\n",
    "L, U, perm = A.LUdecomposition()\n",
    "\n",
    "normA = A.norm()\n",
    "\n",
    "L = sympy.Matrix(L)\n",
    "U = sympy.Matrix(U)\n",
    "\n",
    "# print(\"L:\")\n",
    "# L\n",
    "normA"
   ]
  },
  {
   "attachments": {},
   "cell_type": "markdown",
   "metadata": {},
   "source": [
    "Rotation in $\\mathbb{R}^2$"
   ]
  },
  {
   "attachments": {},
   "cell_type": "markdown",
   "metadata": {},
   "source": [
    "Rotate points through 60 degrees about the point (6,8)"
   ]
  },
  {
   "cell_type": "code",
   "execution_count": 3,
   "metadata": {},
   "outputs": [
    {
     "data": {
      "text/latex": [
       "$\\displaystyle \\left[\\begin{matrix}0.5 & -0.866025403784439 & 9.92820323027551\\\\0.866025403784439 & 0.5 & -1.19615242270663\\\\0 & 0 & 1\\end{matrix}\\right]$"
      ],
      "text/plain": [
       "Matrix([\n",
       "[              0.5, -0.866025403784439,  9.92820323027551],\n",
       "[0.866025403784439,                0.5, -1.19615242270663],\n",
       "[                0,                  0,                 1]])"
      ]
     },
     "execution_count": 3,
     "metadata": {},
     "output_type": "execute_result"
    }
   ],
   "source": [
    "import sympy\n",
    "from math import pi, cos, sin\n",
    "\n",
    "# 1. Move the point (6,8) to the origin by translating it by (-6,-8)\n",
    "# The translation matrix \n",
    "A_1 = sympy.Matrix([[1,0,-6], [0,1,-8],[0, 0, 1]])\n",
    "\n",
    "# 2. Perform the required rotation\n",
    "# The rotation matrix\n",
    "A_2 = sympy.Matrix([[cos(pi/3), -sin(pi/3), 0], [sin(pi/3), cos(pi/3), 0], [0, 0, 1]])\n",
    "\n",
    "# 3. Move the point back to its original position by translating it by (6,8)\n",
    "# The translation matrix\n",
    "A_3 = sympy.Matrix([[1,0,6], [0,1,8],[0, 0, 1]])\n",
    "\n",
    "# The final transformation matrix\n",
    "A = A_3*A_2*A_1\n",
    "\n",
    "\n",
    "A"
   ]
  },
  {
   "cell_type": "code",
   "execution_count": 9,
   "metadata": {},
   "outputs": [
    {
     "data": {
      "text/latex": [
       "$\\displaystyle \\left[\\begin{matrix}10.4641016151378\\\\7.73205080756888\\\\1\\end{matrix}\\right]$"
      ],
      "text/plain": [
       "Matrix([\n",
       "[10.4641016151378],\n",
       "[7.73205080756888],\n",
       "[               1]])"
      ]
     },
     "execution_count": 9,
     "metadata": {},
     "output_type": "execute_result"
    }
   ],
   "source": [
    "import sympy\n",
    "\n",
    "point = sympy.Matrix([[8,],[4,],[1,]])\n",
    "A*point"
   ]
  },
  {
   "cell_type": "code",
   "execution_count": 18,
   "metadata": {},
   "outputs": [
    {
     "data": {
      "text/latex": [
       "$\\displaystyle \\left[\\begin{matrix}2 & 4 & -1 & 5 & -2\\\\-4 & -5 & 3 & -8 & 1\\\\2 & -5 & -4 & 1 & 8\\\\-6 & 0 & 7 & -3 & 1\\end{matrix}\\right]$"
      ],
      "text/plain": [
       "Matrix([\n",
       "[ 2,  4, -1,  5, -2],\n",
       "[-4, -5,  3, -8,  1],\n",
       "[ 2, -5, -4,  1,  8],\n",
       "[-6,  0,  7, -3,  1]])"
      ]
     },
     "execution_count": 18,
     "metadata": {},
     "output_type": "execute_result"
    }
   ],
   "source": [
    "import sympy as sym\n",
    "\n",
    "lower = sym.Matrix([[1,0,0,0,], [-2,1,0,0],[1,-3,1,0], [-3,4,0,1]])\n",
    "\n",
    "upper = sym.Matrix([[2,4,-1,5,-2], [0,3,1,2,-3], [0,0,0,2,1], [0,0,0,4,7]])\n",
    "\n",
    "lower*upper"
   ]
  }
 ],
 "metadata": {
  "kernelspec": {
   "display_name": "Python 3",
   "language": "python",
   "name": "python3"
  },
  "language_info": {
   "codemirror_mode": {
    "name": "ipython",
    "version": 3
   },
   "file_extension": ".py",
   "mimetype": "text/x-python",
   "name": "python",
   "nbconvert_exporter": "python",
   "pygments_lexer": "ipython3",
   "version": "3.10.7"
  },
  "orig_nbformat": 4
 },
 "nbformat": 4,
 "nbformat_minor": 2
}
