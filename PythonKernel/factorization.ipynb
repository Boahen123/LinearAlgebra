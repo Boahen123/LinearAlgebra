{
 "cells": [
  {
   "attachments": {},
   "cell_type": "markdown",
   "metadata": {},
   "source": [
    "LU factorization"
   ]
  },
  {
   "cell_type": "code",
   "execution_count": 6,
   "metadata": {},
   "outputs": [
    {
     "name": "stdout",
     "output_type": "stream",
     "text": [
      "[[ 2  4 -1  5 -2]\n",
      " [-4 -5  3 -8  1]\n",
      " [ 2 -5 -4  1  8]\n",
      " [-6  0  7 -3  1]]\n",
      "L:\n",
      "[[1 0 0 0]\n",
      " [-2 1 0 0]\n",
      " [1 -3 1 0]\n",
      " [-3 4 2 1]]\n",
      "U:\n",
      "[[2 4 -1 5 -2]\n",
      " [0 3 1 2 -3]\n",
      " [0 0 0 2 1]\n",
      " [0 0 0 0 5]]\n",
      "The scipy.linalg library\n",
      "\n",
      "[[ 1.          0.          0.          0.        ]\n",
      " [ 0.66666667  1.          0.          0.        ]\n",
      " [-0.33333333  1.          1.          0.        ]\n",
      " [-0.33333333 -0.8        -0.          1.        ]]\n",
      "[[-6.00000000e+00  0.00000000e+00  7.00000000e+00 -3.00000000e+00\n",
      "   1.00000000e+00]\n",
      " [ 0.00000000e+00 -5.00000000e+00 -1.66666667e+00 -6.00000000e+00\n",
      "   3.33333333e-01]\n",
      " [ 0.00000000e+00  0.00000000e+00 -8.88178420e-16  6.00000000e+00\n",
      "   8.00000000e+00]\n",
      " [ 0.00000000e+00  0.00000000e+00  0.00000000e+00 -8.00000000e-01\n",
      "  -1.40000000e+00]]\n"
     ]
    }
   ],
   "source": [
    "import numpy as np\n",
    "from scipy.linalg import lu\n",
    "import sympy\n",
    "\n",
    "# Create a matrix\n",
    "A = np.array([[2, 4, -1, 5, -2], [-4, -5, 3, -8, 1], [2, -5, -4, 1, 8], [-6, 0, 7, -3, 1]])\n",
    "\n",
    "# # Perform LU factorization\n",
    "P, Lower, Upper = lu(A)\n",
    "\n",
    "# Convert to a SymPy matrix\n",
    "A_sym = sympy.Matrix(A)\n",
    "\n",
    "# Perform LU factorization\n",
    "L, U, _ = A_sym.LUdecomposition()\n",
    "\n",
    "print(A)\n",
    "\n",
    "\n",
    "print(\"L:\")\n",
    "print(np.array(L))\n",
    "print(\"U:\")\n",
    "print(np.array(U))\n",
    "\n",
    "print(\"The scipy.linalg library\")\n",
    "print()\n",
    "\n",
    "print(Lower)\n",
    "print(Upper)"
   ]
  },
  {
   "cell_type": "markdown",
   "metadata": {},
   "source": [
    "It seems that the sympy library gives more accurate solutions"
   ]
  }
 ],
 "metadata": {
  "kernelspec": {
   "display_name": "Python 3",
   "language": "python",
   "name": "python3"
  },
  "language_info": {
   "codemirror_mode": {
    "name": "ipython",
    "version": 3
   },
   "file_extension": ".py",
   "mimetype": "text/x-python",
   "name": "python",
   "nbconvert_exporter": "python",
   "pygments_lexer": "ipython3",
   "version": "3.10.7"
  },
  "orig_nbformat": 4
 },
 "nbformat": 4,
 "nbformat_minor": 2
}
