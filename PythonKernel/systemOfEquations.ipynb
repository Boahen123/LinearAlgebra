{
 "cells": [
  {
   "attachments": {},
   "cell_type": "markdown",
   "id": "e3a4fda9",
   "metadata": {},
   "source": [
    "This is a Jupyter notebook that using Python and its libraries in the study of Linear Algebra. The numpy library is used, particularly it's submodule for linear algebra, access their documentation here: \n",
    "- [NumPy](https://numpy.org/)\n",
    "- [SciPy](https://docs.scipy.org)"
   ]
  },
  {
   "attachments": {},
   "cell_type": "markdown",
   "id": "fc695cfe",
   "metadata": {},
   "source": [
    "Given this system of linear equations:\n",
    "\\begin{matrix}\n",
    "2x + y + z &= 4 \\\\\n",
    "x - y  + 0 &= 1 \\\\\n",
    "3x - y + 2z &= 5\n",
    "\\end{matrix}"
   ]
  },
  {
   "attachments": {},
   "cell_type": "markdown",
   "id": "61081552",
   "metadata": {},
   "source": [
    "AX = B\n",
    "$$ \\begin{pmatrix}\n",
    "2 & 1 & 1 \\\\\n",
    "1 & -1 & 0 \\\\\n",
    "3 & -1 & 2\n",
    "\\end{pmatrix}\n",
    "\n",
    "\\begin{pmatrix}\n",
    "x \\\\\n",
    "y \\\\\n",
    "z\n",
    "\\end{pmatrix}\n",
    "\n",
    "=\n",
    "\n",
    "\\begin{pmatrix}\n",
    "4 \\\\\n",
    "1 \\\\\n",
    "5\n",
    "\\end{pmatrix} $$\n",
    "\n",
    "\n"
   ]
  },
  {
   "attachments": {},
   "cell_type": "markdown",
   "id": "73477183",
   "metadata": {},
   "source": [
    "<h3> Solving systems of equations in three variables with Python </h3>"
   ]
  },
  {
   "cell_type": "code",
   "execution_count": 1,
   "id": "ef3deec1",
   "metadata": {},
   "outputs": [
    {
     "data": {
      "text/plain": [
       "array([1.5, 0.5, 0.5])"
      ]
     },
     "execution_count": 1,
     "metadata": {},
     "output_type": "execute_result"
    }
   ],
   "source": [
    "import numpy as np\n",
    "from scipy import linalg\n",
    "\n",
    "# Define the coefficients of the system of linear equations\n",
    "A = np.array([[2, 1, 1], [1, -1, 0], [3, -1, 2]])\n",
    "\n",
    "# Define the right-hand side of the system of linear equations(i.e the constants)\n",
    "B = np.array([4, 1, 5])\n",
    "\n",
    "# Solve the system of linear equations\n",
    "X = np.linalg.solve(A, B)\n",
    "# Obtain similar results with this function from Scipy\n",
    "Y = linalg.solve(A, B)\n",
    "\n",
    "X"
   ]
  },
  {
   "cell_type": "code",
   "execution_count": 2,
   "id": "f4c15449",
   "metadata": {},
   "outputs": [
    {
     "data": {
      "text/plain": [
       "array([4., 1., 5.])"
      ]
     },
     "execution_count": 2,
     "metadata": {},
     "output_type": "execute_result"
    }
   ],
   "source": [
    "Y\n",
    "np.dot(A, X)"
   ]
  },
  {
   "attachments": {},
   "cell_type": "markdown",
   "id": "7453dfd0",
   "metadata": {},
   "source": [
    "Row-reduced row echelon form\n"
   ]
  },
  {
   "cell_type": "code",
   "execution_count": null,
   "id": "a374c5d5",
   "metadata": {},
   "outputs": [],
   "source": [
    "import sympy as sym\n",
    "\n",
    "mat_A = sym.Matrix([[5,0,5,0], [4,2,6,0], [3,-1,2,0]])\n",
    "mat_A.rref()"
   ]
  },
  {
   "attachments": {},
   "cell_type": "markdown",
   "id": "94c1d25e",
   "metadata": {},
   "source": [
    "To find the inverse of a 2x2 matrix [a b; c d] using Gaussian elimination"
   ]
  },
  {
   "cell_type": "code",
   "execution_count": 3,
   "id": "814b587c",
   "metadata": {},
   "outputs": [
    {
     "data": {
      "text/plain": [
       "[-2, 1, 3/2, -1/2]"
      ]
     },
     "execution_count": 3,
     "metadata": {},
     "output_type": "execute_result"
    }
   ],
   "source": [
    "import sympy\n",
    "\n",
    "def invert_matrix2x2(matrix):\n",
    "    a, b, c, d = matrix\n",
    "    det = a * d - b * c\n",
    "    if det == 0:\n",
    "        raise ValueError(\"The matrix is not invertible.\")\n",
    "    # Perform row operations\n",
    "    a /= det\n",
    "    b /= -det\n",
    "    c /= -det\n",
    "    d /= det\n",
    "    return [d, b, c, a]\n",
    "\n",
    "mat_D = sympy.Matrix([[1, 2], [3, 4]])\n",
    "mat_A = invert_matrix2x2(mat_D)\n",
    "mat_A"
   ]
  },
  {
   "cell_type": "code",
   "execution_count": 6,
   "id": "6bad298b",
   "metadata": {},
   "outputs": [
    {
     "data": {
      "text/latex": [
       "$\\displaystyle \\left[\\begin{matrix}1 & -2 & 0 & \\frac{10}{3} & 0\\\\0 & 0 & 1 & \\frac{1}{3} & 0\\\\0 & 0 & 0 & 0 & 1\\end{matrix}\\right]$"
      ],
      "text/plain": [
       "Matrix([\n",
       "[1, -2, 0, 10/3, 0],\n",
       "[0,  0, 1,  1/3, 0],\n",
       "[0,  0, 0,    0, 1]])"
      ]
     },
     "execution_count": 6,
     "metadata": {},
     "output_type": "execute_result"
    }
   ],
   "source": [
    "import sympy as sym\n",
    "\n",
    "mat_A = sym.Matrix([[1,-2,-1,3,0],[-2,4,5,-5,3], [3,-6,-6,8,2]])\n",
    "mat_A.rref()[0]"
   ]
  },
  {
   "cell_type": "code",
   "execution_count": 14,
   "id": "724de6cc",
   "metadata": {},
   "outputs": [
    {
     "data": {
      "text/latex": [
       "$\\displaystyle \\left[\\begin{matrix}1 & -2 & 0 & -1 & 3 & 0\\\\0 & 0 & 1 & 2 & -2 & 0\\\\0 & 0 & 0 & 0 & 0 & 0\\end{matrix}\\right]$"
      ],
      "text/plain": [
       "Matrix([\n",
       "[1, -2, 0, -1,  3, 0],\n",
       "[0,  0, 1,  2, -2, 0],\n",
       "[0,  0, 0,  0,  0, 0]])"
      ]
     },
     "execution_count": 14,
     "metadata": {},
     "output_type": "execute_result"
    }
   ],
   "source": [
    "M = sym.Matrix([[-3,6,-1,1,-7,0], [1,-2,2,3,-1,0], [2,-4,5,8,-4,0]])\n",
    "M.rref()[0]\n"
   ]
  },
  {
   "cell_type": "code",
   "execution_count": 16,
   "id": "aead782b",
   "metadata": {},
   "outputs": [
    {
     "name": "stdout",
     "output_type": "stream",
     "text": [
      "[Matrix([\n",
      "[2],\n",
      "[1],\n",
      "[0],\n",
      "[0],\n",
      "[0],\n",
      "[0]]), Matrix([\n",
      "[ 1],\n",
      "[ 0],\n",
      "[-2],\n",
      "[ 1],\n",
      "[ 0],\n",
      "[ 0]]), Matrix([\n",
      "[-3],\n",
      "[ 0],\n",
      "[ 2],\n",
      "[ 0],\n",
      "[ 1],\n",
      "[ 0]]), Matrix([\n",
      "[0],\n",
      "[0],\n",
      "[0],\n",
      "[0],\n",
      "[0],\n",
      "[1]])]\n"
     ]
    }
   ],
   "source": [
    "import sympy as sym\n",
    "\n",
    "# Define the matrix A\n",
    "A = sym.Matrix([[-3, 6, -1, 1, -7, 0], [1, -2, 2, 3, -1, 0], [2, -4, 5, 8, -4, 0]])\n",
    "\n",
    "# Solve the equation Ax = 0\n",
    "null_space_basis = A.nullspace()\n",
    "\n",
    "# Print the spanning set for the null space\n",
    "print(null_space_basis)\n"
   ]
  }
 ],
 "metadata": {
  "kernelspec": {
   "display_name": "Python 3",
   "language": "python",
   "name": "python3"
  },
  "language_info": {
   "codemirror_mode": {
    "name": "ipython",
    "version": 3
   },
   "file_extension": ".py",
   "mimetype": "text/x-python",
   "name": "python",
   "nbconvert_exporter": "python",
   "pygments_lexer": "ipython3",
   "version": "3.10.7"
  },
  "vscode": {
   "interpreter": {
    "hash": "ad4bd2d53df8249b85b98c9015a997b3d682fe5150186c76780a0ed2b9c8bd8d"
   }
  }
 },
 "nbformat": 4,
 "nbformat_minor": 5
}
