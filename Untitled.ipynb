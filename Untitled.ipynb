{
 "cells": [
  {
   "cell_type": "code",
   "execution_count": 2,
   "id": "5b83d05b-fbcb-4091-badb-bc8589491f26",
   "metadata": {},
   "outputs": [
    {
     "name": "stdout",
     "output_type": "stream",
     "text": [
      "\n",
      "L =\n",
      "\n",
      "    1.0000         0         0\n",
      "    0.3333    1.0000         0\n",
      "    0.6667   -0.3077    1.0000\n",
      "\n",
      "\n",
      "U =\n",
      "\n",
      "    3.0000    8.0000    1.0000\n",
      "         0    4.3333    4.6667\n",
      "         0         0    6.7692\n",
      "\n",
      "\n",
      "P =\n",
      "\n",
      "     0     0     1\n",
      "     0     1     0\n",
      "     1     0     0\n",
      "\n",
      "\n",
      "L_rats =\n",
      "\n",
      "  3x42 char array\n",
      "\n",
      "    '       1             0             0      '\n",
      "    '      1/3            1             0      '\n",
      "    '      2/3          -4/13           1      '\n",
      "\n",
      "\n",
      "U_rats =\n",
      "\n",
      "  3x42 char array\n",
      "\n",
      "    '       3             8             1      '\n",
      "    '       0           13/3          14/3     '\n",
      "    '       0             0           88/13    '\n",
      "\n",
      "\n",
      "P_rats =\n",
      "\n",
      "  3x42 char array\n",
      "\n",
      "    '       0             0             1      '\n",
      "    '       0             1             0      '\n",
      "    '       1             0             0      '\n",
      "\n",
      "\n"
     ]
    }
   ],
   "source": [
    "% Create a matrix\n",
    "A = [2 4 6; 1 7 5; 3 8 1];\n",
    "\n",
    "% Perform LU factorization\n",
    "[L,U,P] = lu(A)\n",
    "\n",
    "% Convert the matrices to rational numbers\n",
    "L_rats = rats(L)\n",
    "U_rats = rats(U)\n",
    "P_rats = rats(P)"
   ]
  },
  {
   "cell_type": "code",
   "execution_count": null,
   "id": "db36e89e-e3d5-48a8-b48b-82cb47eb10cd",
   "metadata": {},
   "outputs": [],
   "source": []
  },
  {
   "cell_type": "code",
   "execution_count": null,
   "id": "3c04905d-a7e5-4275-ae75-e3811d0bb8b7",
   "metadata": {},
   "outputs": [],
   "source": []
  }
 ],
 "metadata": {
  "kernelspec": {
   "display_name": "Matlab",
   "language": "matlab",
   "name": "matlab"
  },
  "language_info": {
   "codemirror_mode": "octave",
   "file_extension": ".m",
   "help_links": [
    {
     "text": "MetaKernel Magics",
     "url": "https://metakernel.readthedocs.io/en/latest/source/README.html"
    }
   ],
   "mimetype": "text/x-octave",
   "name": "matlab",
   "version": "0.17.1"
  }
 },
 "nbformat": 4,
 "nbformat_minor": 5
}
