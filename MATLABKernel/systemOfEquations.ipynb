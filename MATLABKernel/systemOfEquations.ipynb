{
 "cells": [
  {
   "attachments": {},
   "cell_type": "markdown",
   "metadata": {},
   "source": [
    "This is a Jupyter notebook that using *MATLAB* kernel with Jupyter in the study of Linear Algebra. Access *MATLAB* documentation also view a youtube video on how to use Jupyter with *MATLAB* kernel: <br>\n",
    "[Youtube link](https://youtu.be/WufMGW5Bv4g) <br>\n",
    "[MATLAB linear algebra docs](https://www.mathworks.com/help/matlab/linear-algebra.html?searchHighlight=linear%20Algebra&s_tid=srchtitle_linear%20Algebra_1)\n",
    "<br>\n",
    "Learn how to setup *LaTeX* markup for jupyter notebooks using this link: <br>\n",
    "[LaTeX in Jupyter](https://linuxhint.com/use-latex-jupyter-notebook/)\n"
   ]
  },
  {
   "cell_type": "markdown",
   "metadata": {},
   "source": [
    "Given this system of linear equations:\n",
    "\\begin{matrix}\n",
    "2x + y + z &= 4 \\\\\n",
    "    x - y + 0 &= 1 \\\\\n",
    "    3x - y + 2z &= 5\n",
    "\\end{matrix}\n"
   ]
  },
  {
   "cell_type": "markdown",
   "metadata": {},
   "source": [
    "AX = B\n",
    "$$ \\begin{pmatrix}\n",
    "2 & 1 & 1 \\\\\n",
    "1 & -1 & 0 \\\\\n",
    "3 & -1 & 2\n",
    "\\end{pmatrix}\n",
    "\n",
    "\\begin{pmatrix}\n",
    "x \\\\\n",
    "y \\\\\n",
    "z\n",
    "\\end{pmatrix}\n",
    "\n",
    "=\n",
    "\n",
    "\\begin{pmatrix}\n",
    "4 \\\\\n",
    "1 \\\\\n",
    "5\n",
    "\\end{pmatrix} $$"
   ]
  },
  {
   "cell_type": "markdown",
   "metadata": {},
   "source": [
    "<h3> Solving systems of equations in three variables with <i>MATLAB</i></h3>"
   ]
  },
  {
   "cell_type": "code",
   "execution_count": null,
   "metadata": {
    "tags": []
   },
   "outputs": [],
   "source": [
    "% Define the coeffiecients of the system of linear equations\n",
    "A = [2, 1, 1; 1, -1, 0; 3, -1, 2];\n",
    "\n",
    "% Define the right hand side of the system of linear equations(i.e the constants)\n",
    "B = [4; 1; 5];\n",
    "\n",
    "% Solve the system of linear equations using the backslash operator\n",
    "X = A \\ B;\n",
    "\n",
    "\n",
    "% Print the solution using the backslash operator\n",
    "disp('The solution is:')\n",
    "disp(X)\n",
    "\n"
   ]
  },
  {
   "cell_type": "markdown",
   "metadata": {},
   "source": [
    "Explore alternative ways to achieve the same results"
   ]
  },
  {
   "cell_type": "code",
   "execution_count": null,
   "metadata": {
    "tags": []
   },
   "outputs": [],
   "source": [
    "% Using the  Matrix inversion method\n",
    "% Define the coeffiecients of the system of linear equations\n",
    "A = [2, 1, 1; 1, -1, 0; 3, -1, 2];\n",
    "\n",
    "% Define the right hand side of the system of linear equations(i.e the constants)\n",
    "B = [4; 1; 5];\n",
    "\n",
    "% Solve the system of linear equations \n",
    "A_inv = inv(A);\n",
    "\n",
    "X = A_inv * B;\n",
    "\n",
    "% Using the mldivide function\n",
    "X_alternative = mldivide(A, B);\n",
    "\n",
    "% Print the solution\n",
    "disp('The solution is:')\n",
    "disp(X)\n",
    "?disp\n"
   ]
  },
  {
   "cell_type": "code",
   "execution_count": null,
   "metadata": {
    "tags": []
   },
   "outputs": [
    {
     "name": "stdout",
     "output_type": "stream",
     "text": [
      "The solution is:\n",
      "    1.5000\n",
      "    0.5000\n",
      "    0.5000\n",
      "\n",
      "\n"
     ]
    }
   ],
   "source": [
    "% Using the Gaussian Elimination method\n",
    "% Define the coeffiecients of the system of linear equations\n",
    "A = [2, 1, 1; 1, -1, 0; 3, -1, 2];\n",
    "\n",
    "% Define the right hand side of the system of linear equations(i.e the constants)\n",
    "B = [4; 1; 5];\n",
    "\n",
    "% The augmented matrix \n",
    "AB = [A B];\n",
    "\n",
    "% Return the reduced row echelon form \n",
    "R = rref(AB) ;\n",
    "\n",
    "% Extract the last column of R which is the solution\n",
    "X = R(:, end);\n",
    "\n",
    "% Print the solution\n",
    "disp('The solution is:')\n",
    "disp(X)\n"
   ]
  }
 ],
 "metadata": {
  "kernelspec": {
   "display_name": "Matlab (Connection)",
   "language": "matlab",
   "name": "matlab_connect"
  },
  "language_info": {
   "codemirror_mode": "octave",
   "file_extension": ".m",
   "help_links": [
    {
     "text": "MetaKernel Magics",
     "url": "https://metakernel.readthedocs.io/en/latest/source/README.html"
    }
   ],
   "mimetype": "text/x-octave",
   "name": "matlab",
   "version": "0.17.1"
  }
 },
 "nbformat": 4,
 "nbformat_minor": 4
}
