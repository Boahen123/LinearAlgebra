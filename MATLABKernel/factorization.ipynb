{
 "cells": [
  {
   "cell_type": "code",
   "execution_count": null,
   "metadata": {},
   "outputs": [],
   "source": [
    "% Create a matrix\n",
    "A = [2 4 -1 5 -2; -4 -5 3 -8 1; 2 -5 -4 1 8; -6 0 7 -3 1]\n",
    "\n",
    "% Perform LU factorization\n",
    "[L,U] = lu(A)\n",
    "\n",
    "% Convert the matrices to rational numbers\n",
    "L_rats = rats(L)\n",
    "U_rats = rats(U)\n"
   ]
  }
 ],
 "metadata": {
  "kernelspec": {
   "display_name": "Matlab (Connection)",
   "language": "matlab",
   "name": "matlab_connect"
  },
  "language_info": {
   "codemirror_mode": "octave",
   "file_extension": ".m",
   "help_links": [
    {
     "text": "MetaKernel Magics",
     "url": "https://metakernel.readthedocs.io/en/latest/source/README.html"
    }
   ],
   "mimetype": "text/x-octave",
   "name": "matlab",
   "version": "0.17.1"
  },
  "orig_nbformat": 4
 },
 "nbformat": 4,
 "nbformat_minor": 2
}
